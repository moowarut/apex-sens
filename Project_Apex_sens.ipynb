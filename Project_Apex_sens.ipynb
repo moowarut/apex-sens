{
 "cells": [
  {
   "cell_type": "markdown",
   "id": "446ae56b",
   "metadata": {},
   "source": [
    "# Project Apex Legends sensitivy\n",
    "\n",
    "### Purpose: To perform summary statistics on Apex Legends players' mouse sensitivity and see the relationship with other factors such as main legends"
   ]
  },
  {
   "cell_type": "markdown",
   "id": "81203cc5",
   "metadata": {},
   "source": [
    "#### Import the required packages"
   ]
  },
  {
   "cell_type": "code",
   "execution_count": 1,
   "id": "253a58fa",
   "metadata": {},
   "outputs": [],
   "source": [
    "# import packages\n",
    "import numpy as np\n",
    "import pandas as pd\n",
    "import requests\n",
    "from bs4 import BeautifulSoup\n",
    "import time\n",
    "import datetime\n",
    "from dateutil.relativedelta import relativedelta\n",
    "import ast\n",
    "import matplotlib.pyplot as plt\n",
    "import seaborn as sns"
   ]
  },
  {
   "cell_type": "markdown",
   "id": "f7c519f3",
   "metadata": {},
   "source": [
    "#### Getting the main mouse sensitivity table"
   ]
  },
  {
   "cell_type": "code",
   "execution_count": null,
   "id": "b1fe9b9a",
   "metadata": {},
   "outputs": [],
   "source": [
    "# Specify url\n",
    "url = 'https://liquipedia.net/apexlegends/List_of_player_mouse_settings/001-400'\n",
    "\n",
    "# Package the request, send the request and catch the response: r\n",
    "r = requests.get(url)\n",
    "\n",
    "# Extracts the response as html: html_doc\n",
    "html_doc = r.text\n",
    "\n",
    "# Create a BeautifulSoup object from the HTML: soup\n",
    "soup = BeautifulSoup(html_doc)\n",
    "\n",
    "# Get the main table of the page\n",
    "table = soup.find_all('table')\n",
    "\n",
    "# Put in DataFrame having player alias as index\n",
    "df_sens = pd.read_html(str(table), index_col='Player')[0]\n",
    "\n",
    "# Only get the columns of interest\n",
    "df_sens = df_sens[['eDPI', 'DPI', 'Sensitivity', 'Polling Rate', 'Mouse']]\n",
    "# df_sens = df_sens[:5] # Experiment by selecting just some parts of the data\n",
    "\n",
    "# Check the DataFrame\n",
    "display(df_sens)"
   ]
  },
  {
   "cell_type": "markdown",
   "id": "1a8dfade",
   "metadata": {},
   "source": [
    "#### Iterating over Player column to get more information in each player's page"
   ]
  },
  {
   "cell_type": "code",
   "execution_count": null,
   "id": "63acf987",
   "metadata": {
    "scrolled": true
   },
   "outputs": [],
   "source": [
    "print('Player being processed:')\n",
    "\n",
    "# Iterate over each player to get more information\n",
    "for name in df_sens.index:\n",
    "    print(name) # Print alias of the player being processed\n",
    "    \n",
    "    # Create the url and do the same process as getting the main sensitivity table\n",
    "    sub_url = 'https://liquipedia.net/apexlegends/' + name\n",
    "    sub_r = requests.get(sub_url)\n",
    "    sub_html_doc = sub_r.text\n",
    "    sub_soup = BeautifulSoup(sub_html_doc)\n",
    "    \n",
    "    # Information of interest is tagged as div, class = inforbox-cell-2\n",
    "    result = sub_soup.find_all(\"div\", {\"class\":\"infobox-cell-2\"})\n",
    "    legend_result = sub_soup.find_all(\"img\", {\"height\":\"25\"})\n",
    "    \n",
    "    # Create a list which more information will be added and later converted to dictionary\n",
    "    base_list = ['Player', name]\n",
    "    \n",
    "    # Add more information to the previos list\n",
    "    for res in result:\n",
    "        base_list.append(res.text)\n",
    "    \n",
    "    # Convert to dictionary\n",
    "    player_dict = {base_list[i].replace(\":\", \"\"): base_list[i+1] for i in range(0, len(base_list), 2)}\n",
    "    \n",
    "    # Replace main legends information from the correct source (<img alt=\"xxx\">)\n",
    "    legend_revised = str([legend['alt'] for legend in legend_result if legend['alt'] != \"\"]) # Firstly convert to string to avoid error\n",
    "    player_dict.update({'Main Legends': legend_revised})\n",
    "    \n",
    "    # Iterate over key and value pairs in dictionary and added them to the main sensitivty table\n",
    "    for key, value in player_dict.items():\n",
    "        df_sens.loc[name, key] = value\n",
    "    \n",
    "    # Pause for 10 seconds (2 seconds at least according to liquipedia's rule) before performing next loop\n",
    "    time.sleep(10)\n",
    "\n",
    "# Only get the columns of interest\n",
    "df_sens = df_sens[['eDPI', 'DPI', 'Sensitivity', 'Polling Rate', 'Mouse', 'Name', 'Romanized Name', 'Birth', 'Country', 'Status', 'Approx. Total Earnings', 'ALGS points (2020-21)', 'Input', 'Main Legends']]    \n",
    "\n",
    "# Check the DataFrame\n",
    "display(df_sens)\n",
    "\n",
    "# Export to .xlsx file\n",
    "df_sens.to_excel('df_sens.xlsx', sheet_name = 'table_raw')"
   ]
  },
  {
   "cell_type": "markdown",
   "id": "0539cb08",
   "metadata": {},
   "source": [
    "#### Cleaning data"
   ]
  },
  {
   "cell_type": "code",
   "execution_count": 2,
   "id": "7c43fade",
   "metadata": {
    "scrolled": true
   },
   "outputs": [
    {
     "name": "stderr",
     "output_type": "stream",
     "text": [
      "<ipython-input-2-aa4405a3029a>:18: FutureWarning: The default value of regex will change from True to False in a future version. In addition, single character regular expressions will*not* be treated as literal strings when regex=True.\n",
      "  df_sens_clean['Approx. Total Earnings'] = df_sens_clean['Approx. Total Earnings'].str.replace(\"$\", \"\").str.replace(\",\", \"\")\n"
     ]
    },
    {
     "data": {
      "text/html": [
       "<div>\n",
       "<style scoped>\n",
       "    .dataframe tbody tr th:only-of-type {\n",
       "        vertical-align: middle;\n",
       "    }\n",
       "\n",
       "    .dataframe tbody tr th {\n",
       "        vertical-align: top;\n",
       "    }\n",
       "\n",
       "    .dataframe thead th {\n",
       "        text-align: right;\n",
       "    }\n",
       "</style>\n",
       "<table border=\"1\" class=\"dataframe\">\n",
       "  <thead>\n",
       "    <tr style=\"text-align: right;\">\n",
       "      <th></th>\n",
       "      <th>Player</th>\n",
       "      <th>eDPI</th>\n",
       "      <th>DPI</th>\n",
       "      <th>Sensitivity</th>\n",
       "      <th>Polling Rate</th>\n",
       "      <th>Mouse</th>\n",
       "      <th>Name</th>\n",
       "      <th>Romanized Name</th>\n",
       "      <th>Birth</th>\n",
       "      <th>Country</th>\n",
       "      <th>Status</th>\n",
       "      <th>Approx. Total Earnings</th>\n",
       "      <th>ALGS points (2020-21)</th>\n",
       "      <th>Input</th>\n",
       "      <th>Main Legends</th>\n",
       "      <th>Age</th>\n",
       "      <th>eDPI_manual</th>\n",
       "    </tr>\n",
       "  </thead>\n",
       "  <tbody>\n",
       "    <tr>\n",
       "      <th>0</th>\n",
       "      <td>1tappy</td>\n",
       "      <td>NaN</td>\n",
       "      <td>400.0</td>\n",
       "      <td>2.50</td>\n",
       "      <td>NaN</td>\n",
       "      <td>Kone Pure</td>\n",
       "      <td>NaN</td>\n",
       "      <td>NaN</td>\n",
       "      <td>2000-10-01</td>\n",
       "      <td>Japan</td>\n",
       "      <td>Active</td>\n",
       "      <td>23140.0</td>\n",
       "      <td>3125</td>\n",
       "      <td>Mouse &amp; Keyboard</td>\n",
       "      <td>[Wraith]</td>\n",
       "      <td>21.0</td>\n",
       "      <td>1000.0</td>\n",
       "    </tr>\n",
       "    <tr>\n",
       "      <th>1</th>\n",
       "      <td>3Mz</td>\n",
       "      <td>NaN</td>\n",
       "      <td>800.0</td>\n",
       "      <td>1.00</td>\n",
       "      <td>NaN</td>\n",
       "      <td>Kone Pure</td>\n",
       "      <td>王虎</td>\n",
       "      <td>Hu Wang</td>\n",
       "      <td>1998-11-15</td>\n",
       "      <td>China</td>\n",
       "      <td>Active</td>\n",
       "      <td>43066.0</td>\n",
       "      <td>12335</td>\n",
       "      <td>Mouse &amp; Keyboard</td>\n",
       "      <td>[Wraith, Gibraltar]</td>\n",
       "      <td>23.0</td>\n",
       "      <td>800.0</td>\n",
       "    </tr>\n",
       "    <tr>\n",
       "      <th>2</th>\n",
       "      <td>7ozzzus</td>\n",
       "      <td>NaN</td>\n",
       "      <td>800.0</td>\n",
       "      <td>1.30</td>\n",
       "      <td>1000.0</td>\n",
       "      <td>G pro superlight</td>\n",
       "      <td>Владимир Воротилов</td>\n",
       "      <td>Vladimir Vorotilov</td>\n",
       "      <td>2003-08-06</td>\n",
       "      <td>Russia</td>\n",
       "      <td>Active</td>\n",
       "      <td>5532.0</td>\n",
       "      <td>3470</td>\n",
       "      <td>Mouse &amp; Keyboard</td>\n",
       "      <td>[Wraith]</td>\n",
       "      <td>19.0</td>\n",
       "      <td>1040.0</td>\n",
       "    </tr>\n",
       "    <tr>\n",
       "      <th>3</th>\n",
       "      <td>9impulse</td>\n",
       "      <td>NaN</td>\n",
       "      <td>800.0</td>\n",
       "      <td>1.60</td>\n",
       "      <td>1000.0</td>\n",
       "      <td>G PRO X SUPERLIGHT</td>\n",
       "      <td>Кирилл Костив</td>\n",
       "      <td>Kirill Kostiv</td>\n",
       "      <td>1999-10-31</td>\n",
       "      <td>Belarus</td>\n",
       "      <td>Active</td>\n",
       "      <td>107317.0</td>\n",
       "      <td>5460</td>\n",
       "      <td>Mouse &amp; Keyboard</td>\n",
       "      <td>[Caustic, Gibraltar]</td>\n",
       "      <td>22.0</td>\n",
       "      <td>1280.0</td>\n",
       "    </tr>\n",
       "    <tr>\n",
       "      <th>4</th>\n",
       "      <td>Aeon</td>\n",
       "      <td>NaN</td>\n",
       "      <td>400.0</td>\n",
       "      <td>NaN</td>\n",
       "      <td>1000.0</td>\n",
       "      <td>G PRO Wireless</td>\n",
       "      <td>Ramzi Geysen</td>\n",
       "      <td>Ramzi Geysen</td>\n",
       "      <td>1993-05-12</td>\n",
       "      <td>Belgium</td>\n",
       "      <td>Retired</td>\n",
       "      <td>155.0</td>\n",
       "      <td>0</td>\n",
       "      <td>Mouse &amp; Keyboard</td>\n",
       "      <td>[]</td>\n",
       "      <td>29.0</td>\n",
       "      <td>NaN</td>\n",
       "    </tr>\n",
       "    <tr>\n",
       "      <th>...</th>\n",
       "      <td>...</td>\n",
       "      <td>...</td>\n",
       "      <td>...</td>\n",
       "      <td>...</td>\n",
       "      <td>...</td>\n",
       "      <td>...</td>\n",
       "      <td>...</td>\n",
       "      <td>...</td>\n",
       "      <td>...</td>\n",
       "      <td>...</td>\n",
       "      <td>...</td>\n",
       "      <td>...</td>\n",
       "      <td>...</td>\n",
       "      <td>...</td>\n",
       "      <td>...</td>\n",
       "      <td>...</td>\n",
       "      <td>...</td>\n",
       "    </tr>\n",
       "    <tr>\n",
       "      <th>302</th>\n",
       "      <td>vsnz</td>\n",
       "      <td>NaN</td>\n",
       "      <td>800.0</td>\n",
       "      <td>2.00</td>\n",
       "      <td>1000.0</td>\n",
       "      <td>G903</td>\n",
       "      <td>Sean Garcia</td>\n",
       "      <td>Sean Garcia</td>\n",
       "      <td>NaT</td>\n",
       "      <td>United States</td>\n",
       "      <td>Active</td>\n",
       "      <td>21439.0</td>\n",
       "      <td>0</td>\n",
       "      <td>Mouse &amp; Keyboard</td>\n",
       "      <td>[]</td>\n",
       "      <td>NaN</td>\n",
       "      <td>1600.0</td>\n",
       "    </tr>\n",
       "    <tr>\n",
       "      <th>303</th>\n",
       "      <td>wSerious</td>\n",
       "      <td>NaN</td>\n",
       "      <td>3000.0</td>\n",
       "      <td>1.00</td>\n",
       "      <td>1000.0</td>\n",
       "      <td>Rival 300</td>\n",
       "      <td>Romain Dittmann</td>\n",
       "      <td>Romain Dittmann</td>\n",
       "      <td>1997-08-17</td>\n",
       "      <td>France</td>\n",
       "      <td>Active</td>\n",
       "      <td>20223.0</td>\n",
       "      <td>3710</td>\n",
       "      <td>Mouse &amp; Keyboard</td>\n",
       "      <td>[Pathfinder, Lifeline]</td>\n",
       "      <td>25.0</td>\n",
       "      <td>3000.0</td>\n",
       "    </tr>\n",
       "    <tr>\n",
       "      <th>304</th>\n",
       "      <td>xaniya</td>\n",
       "      <td>NaN</td>\n",
       "      <td>800.0</td>\n",
       "      <td>1.20</td>\n",
       "      <td>1000.0</td>\n",
       "      <td>G Pro SuperLight</td>\n",
       "      <td>Антон Шкуратов</td>\n",
       "      <td>Anton Shkuratov</td>\n",
       "      <td>1999-07-29</td>\n",
       "      <td>Russia</td>\n",
       "      <td>Active</td>\n",
       "      <td>25830.0</td>\n",
       "      <td>6860</td>\n",
       "      <td>Mouse &amp; Keyboard</td>\n",
       "      <td>[Valkyrie, Wraith]</td>\n",
       "      <td>23.0</td>\n",
       "      <td>960.0</td>\n",
       "    </tr>\n",
       "    <tr>\n",
       "      <th>305</th>\n",
       "      <td>xeriffer</td>\n",
       "      <td>NaN</td>\n",
       "      <td>1600.0</td>\n",
       "      <td>0.65</td>\n",
       "      <td>1000.0</td>\n",
       "      <td>XM1R</td>\n",
       "      <td>Franco Samuel Korompai</td>\n",
       "      <td>Franco Samuel Korompai</td>\n",
       "      <td>2001-08-10</td>\n",
       "      <td>Slovakia</td>\n",
       "      <td>Active</td>\n",
       "      <td>2566.0</td>\n",
       "      <td>3120</td>\n",
       "      <td>Mouse &amp; Keyboard</td>\n",
       "      <td>[Wraith, Pathfinder]</td>\n",
       "      <td>21.0</td>\n",
       "      <td>1040.0</td>\n",
       "    </tr>\n",
       "    <tr>\n",
       "      <th>306</th>\n",
       "      <td>zolden</td>\n",
       "      <td>NaN</td>\n",
       "      <td>600.0</td>\n",
       "      <td>2.73</td>\n",
       "      <td>1000.0</td>\n",
       "      <td>G PRO Wireless</td>\n",
       "      <td>Camilo Spinelli</td>\n",
       "      <td>Camilo Spinelli</td>\n",
       "      <td>1997-11-04</td>\n",
       "      <td>Argentina</td>\n",
       "      <td>Active</td>\n",
       "      <td>4556.0</td>\n",
       "      <td>4830</td>\n",
       "      <td>Mouse &amp; Keyboard</td>\n",
       "      <td>[]</td>\n",
       "      <td>24.0</td>\n",
       "      <td>1638.0</td>\n",
       "    </tr>\n",
       "  </tbody>\n",
       "</table>\n",
       "<p>307 rows × 17 columns</p>\n",
       "</div>"
      ],
      "text/plain": [
       "       Player  eDPI     DPI  Sensitivity  Polling Rate               Mouse  \\\n",
       "0      1tappy   NaN   400.0         2.50           NaN           Kone Pure   \n",
       "1         3Mz   NaN   800.0         1.00           NaN           Kone Pure   \n",
       "2     7ozzzus   NaN   800.0         1.30        1000.0    G pro superlight   \n",
       "3    9impulse   NaN   800.0         1.60        1000.0  G PRO X SUPERLIGHT   \n",
       "4        Aeon   NaN   400.0          NaN        1000.0      G PRO Wireless   \n",
       "..        ...   ...     ...          ...           ...                 ...   \n",
       "302      vsnz   NaN   800.0         2.00        1000.0                G903   \n",
       "303  wSerious   NaN  3000.0         1.00        1000.0           Rival 300   \n",
       "304    xaniya   NaN   800.0         1.20        1000.0    G Pro SuperLight   \n",
       "305  xeriffer   NaN  1600.0         0.65        1000.0                XM1R   \n",
       "306    zolden   NaN   600.0         2.73        1000.0      G PRO Wireless   \n",
       "\n",
       "                       Name          Romanized Name      Birth  \\\n",
       "0                       NaN                     NaN 2000-10-01   \n",
       "1                        王虎                 Hu Wang 1998-11-15   \n",
       "2        Владимир Воротилов      Vladimir Vorotilov 2003-08-06   \n",
       "3             Кирилл Костив           Kirill Kostiv 1999-10-31   \n",
       "4              Ramzi Geysen            Ramzi Geysen 1993-05-12   \n",
       "..                      ...                     ...        ...   \n",
       "302             Sean Garcia             Sean Garcia        NaT   \n",
       "303         Romain Dittmann         Romain Dittmann 1997-08-17   \n",
       "304          Антон Шкуратов         Anton Shkuratov 1999-07-29   \n",
       "305  Franco Samuel Korompai  Franco Samuel Korompai 2001-08-10   \n",
       "306         Camilo Spinelli         Camilo Spinelli 1997-11-04   \n",
       "\n",
       "            Country   Status  Approx. Total Earnings  ALGS points (2020-21)  \\\n",
       "0             Japan   Active                 23140.0                   3125   \n",
       "1             China   Active                 43066.0                  12335   \n",
       "2            Russia   Active                  5532.0                   3470   \n",
       "3           Belarus   Active                107317.0                   5460   \n",
       "4           Belgium  Retired                   155.0                      0   \n",
       "..              ...      ...                     ...                    ...   \n",
       "302   United States   Active                 21439.0                      0   \n",
       "303          France   Active                 20223.0                   3710   \n",
       "304          Russia   Active                 25830.0                   6860   \n",
       "305        Slovakia   Active                  2566.0                   3120   \n",
       "306       Argentina   Active                  4556.0                   4830   \n",
       "\n",
       "                Input            Main Legends   Age  eDPI_manual  \n",
       "0    Mouse & Keyboard                [Wraith]  21.0       1000.0  \n",
       "1    Mouse & Keyboard     [Wraith, Gibraltar]  23.0        800.0  \n",
       "2    Mouse & Keyboard                [Wraith]  19.0       1040.0  \n",
       "3    Mouse & Keyboard    [Caustic, Gibraltar]  22.0       1280.0  \n",
       "4    Mouse & Keyboard                      []  29.0          NaN  \n",
       "..                ...                     ...   ...          ...  \n",
       "302  Mouse & Keyboard                      []   NaN       1600.0  \n",
       "303  Mouse & Keyboard  [Pathfinder, Lifeline]  25.0       3000.0  \n",
       "304  Mouse & Keyboard      [Valkyrie, Wraith]  23.0        960.0  \n",
       "305  Mouse & Keyboard    [Wraith, Pathfinder]  21.0       1040.0  \n",
       "306  Mouse & Keyboard                      []  24.0       1638.0  \n",
       "\n",
       "[307 rows x 17 columns]"
      ]
     },
     "metadata": {},
     "output_type": "display_data"
    },
    {
     "name": "stdout",
     "output_type": "stream",
     "text": [
      "Player                            object\n",
      "eDPI                             float64\n",
      "DPI                              float64\n",
      "Sensitivity                      float64\n",
      "Polling Rate                     float64\n",
      "Mouse                             object\n",
      "Name                              object\n",
      "Romanized Name                    object\n",
      "Birth                     datetime64[ns]\n",
      "Country                           object\n",
      "Status                            object\n",
      "Approx. Total Earnings           float64\n",
      "ALGS points (2020-21)              int32\n",
      "Input                             object\n",
      "Main Legends                      object\n",
      "Age                              float64\n",
      "eDPI_manual                      float64\n",
      "dtype: object\n"
     ]
    }
   ],
   "source": [
    "# Import xlsx file to pandas DataFrame\n",
    "df_sens_clean = pd.read_excel('df_sens.xlsx')\n",
    "\n",
    "# Copy those name which was romanized name in the first place to romanized name column\n",
    "df_sens_clean.loc[df_sens_clean['Romanized Name'].isnull(), 'Romanized Name'] = df_sens_clean['Name']\n",
    "\n",
    "# Fix birthdate to a proper date time format\n",
    "df_sens_clean['Birth'] = pd.to_datetime(df_sens_clean['Birth'].str[2:12], errors = 'coerce')\n",
    "\n",
    "# Create the age column based on difference between today and birthdate\n",
    "now = pd.Timestamp('now')\n",
    "df_sens_clean['Age'] = ((now - df_sens_clean['Birth'].dropna()) / pd.Timedelta('365.25 days')).round(0)\n",
    "\n",
    "# Delete unwanted strings\n",
    "df_sens_clean['Status'] = df_sens_clean['Status'].str.replace(\"\\n\", \"\")\n",
    "df_sens_clean['Input'] = df_sens_clean['Input'].str.replace(\"\\n\", \"\")\n",
    "df_sens_clean['Polling Rate'] = df_sens_clean['Polling Rate'].str.replace(\"Hz\", \"\")\n",
    "df_sens_clean['Approx. Total Earnings'] = df_sens_clean['Approx. Total Earnings'].str.replace(\"$\", \"\").str.replace(\",\", \"\")\n",
    "df_sens_clean['ALGS points (2020-21)'] = df_sens_clean['ALGS points (2020-21)'].str.replace(\",\", \"\")\n",
    "\n",
    "# To get only the first option of sensitivity in case a player has multiple sensitivities\n",
    "# This is done by delete everything after delimiters including \" \" and \",\"\n",
    "df_sens_clean['Sensitivity'] = df_sens_clean['Sensitivity'].str.replace(\" \", \",\").str.split(\",\", 1).str[0]\n",
    "\n",
    "# Assign a proper type for each column\n",
    "df_sens_clean['Sensitivity'] = df_sens_clean['Sensitivity'].astype(float)\n",
    "df_sens_clean['Polling Rate'] = df_sens_clean['Polling Rate'].astype(float)\n",
    "df_sens_clean['Approx. Total Earnings'] = df_sens_clean['Approx. Total Earnings'].astype(float)\n",
    "df_sens_clean['ALGS points (2020-21)'] = df_sens_clean['ALGS points (2020-21)'].fillna(0).astype(int)\n",
    "df_sens_clean['Main Legends'] = df_sens_clean['Main Legends'].apply(ast.literal_eval) # Revert back to list type\n",
    "\n",
    "# There were some errors of legend name which captured player's team by mistake\n",
    "# Create a list of available legends and only get the result from intersections of two sets\n",
    "available_legends = ['Ash', 'Bangalore', 'Bloodhound', 'Caustic', 'Crypto', 'Fuse', 'Gibraltar', 'Horizon', 'Lifeline', 'Loba', 'Mad Maggie', 'Mirage', 'Octane', 'Pathfinder', 'Rampart', 'Revenant', 'Seer', 'Valkyrie', 'Wattson', 'Wraith']\n",
    "df_sens_clean['Main Legends'] = df_sens_clean['Main Legends'].apply(lambda x: list(set(x) & set(available_legends)))\n",
    "\n",
    "# Manually calculated eDPI\n",
    "df_sens_clean['eDPI_manual'] = df_sens_clean['DPI'] * df_sens_clean['Sensitivity']\n",
    "\n",
    "# Check the DataFrame\n",
    "display(df_sens_clean)\n",
    "\n",
    "# Check the type of each column\n",
    "print(df_sens_clean.dtypes)\n",
    "\n",
    "# Export the cleaned table to the existing excel file as a new sheet\n",
    "with pd.ExcelWriter('df_sens.xlsx', engine = 'openpyxl', mode = 'a') as writer:\n",
    "    df_sens_clean.to_excel(writer, sheet_name = 'table_cleaned')"
   ]
  },
  {
   "cell_type": "markdown",
   "id": "604c2ba5",
   "metadata": {},
   "source": [
    "#### General information about Apex pro players"
   ]
  },
  {
   "cell_type": "code",
   "execution_count": 3,
   "id": "a96c5b62",
   "metadata": {},
   "outputs": [
    {
     "name": "stdout",
     "output_type": "stream",
     "text": [
      "<class 'pandas.core.frame.DataFrame'>\n",
      "RangeIndex: 307 entries, 0 to 306\n",
      "Data columns (total 17 columns):\n",
      " #   Column                  Non-Null Count  Dtype         \n",
      "---  ------                  --------------  -----         \n",
      " 0   Player                  307 non-null    object        \n",
      " 1   eDPI                    42 non-null     float64       \n",
      " 2   DPI                     301 non-null    float64       \n",
      " 3   Sensitivity             293 non-null    float64       \n",
      " 4   Polling Rate            240 non-null    float64       \n",
      " 5   Mouse                   307 non-null    object        \n",
      " 6   Name                    285 non-null    object        \n",
      " 7   Romanized Name          289 non-null    object        \n",
      " 8   Birth                   268 non-null    datetime64[ns]\n",
      " 9   Country                 304 non-null    object        \n",
      " 10  Status                  304 non-null    object        \n",
      " 11  Approx. Total Earnings  275 non-null    float64       \n",
      " 12  ALGS points (2020-21)   307 non-null    int32         \n",
      " 13  Input                   304 non-null    object        \n",
      " 14  Main Legends            307 non-null    object        \n",
      " 15  Age                     268 non-null    float64       \n",
      " 16  eDPI_manual             293 non-null    float64       \n",
      "dtypes: datetime64[ns](1), float64(7), int32(1), object(8)\n",
      "memory usage: 39.7+ KB\n",
      "None\n"
     ]
    },
    {
     "data": {
      "text/html": [
       "<div>\n",
       "<style scoped>\n",
       "    .dataframe tbody tr th:only-of-type {\n",
       "        vertical-align: middle;\n",
       "    }\n",
       "\n",
       "    .dataframe tbody tr th {\n",
       "        vertical-align: top;\n",
       "    }\n",
       "\n",
       "    .dataframe thead th {\n",
       "        text-align: right;\n",
       "    }\n",
       "</style>\n",
       "<table border=\"1\" class=\"dataframe\">\n",
       "  <thead>\n",
       "    <tr style=\"text-align: right;\">\n",
       "      <th></th>\n",
       "      <th>eDPI</th>\n",
       "      <th>DPI</th>\n",
       "      <th>Sensitivity</th>\n",
       "      <th>Polling Rate</th>\n",
       "      <th>Approx. Total Earnings</th>\n",
       "      <th>ALGS points (2020-21)</th>\n",
       "      <th>Age</th>\n",
       "      <th>eDPI_manual</th>\n",
       "    </tr>\n",
       "  </thead>\n",
       "  <tbody>\n",
       "    <tr>\n",
       "      <th>count</th>\n",
       "      <td>42.000000</td>\n",
       "      <td>301.000000</td>\n",
       "      <td>293.000000</td>\n",
       "      <td>240.000000</td>\n",
       "      <td>275.000000</td>\n",
       "      <td>307.000000</td>\n",
       "      <td>268.000000</td>\n",
       "      <td>293.000000</td>\n",
       "    </tr>\n",
       "    <tr>\n",
       "      <th>mean</th>\n",
       "      <td>1276.554762</td>\n",
       "      <td>792.425249</td>\n",
       "      <td>1.852379</td>\n",
       "      <td>959.904167</td>\n",
       "      <td>18082.778182</td>\n",
       "      <td>3965.179153</td>\n",
       "      <td>24.145522</td>\n",
       "      <td>1254.944710</td>\n",
       "    </tr>\n",
       "    <tr>\n",
       "      <th>std</th>\n",
       "      <td>765.634036</td>\n",
       "      <td>718.939333</td>\n",
       "      <td>0.774464</td>\n",
       "      <td>140.588821</td>\n",
       "      <td>31428.275308</td>\n",
       "      <td>4106.331539</td>\n",
       "      <td>3.333703</td>\n",
       "      <td>540.895541</td>\n",
       "    </tr>\n",
       "    <tr>\n",
       "      <th>min</th>\n",
       "      <td>360.000000</td>\n",
       "      <td>400.000000</td>\n",
       "      <td>0.200000</td>\n",
       "      <td>100.000000</td>\n",
       "      <td>5.000000</td>\n",
       "      <td>0.000000</td>\n",
       "      <td>17.000000</td>\n",
       "      <td>400.000000</td>\n",
       "    </tr>\n",
       "    <tr>\n",
       "      <th>25%</th>\n",
       "      <td>800.000000</td>\n",
       "      <td>400.000000</td>\n",
       "      <td>1.300000</td>\n",
       "      <td>1000.000000</td>\n",
       "      <td>1103.000000</td>\n",
       "      <td>370.000000</td>\n",
       "      <td>22.000000</td>\n",
       "      <td>960.000000</td>\n",
       "    </tr>\n",
       "    <tr>\n",
       "      <th>50%</th>\n",
       "      <td>1100.000000</td>\n",
       "      <td>800.000000</td>\n",
       "      <td>1.600000</td>\n",
       "      <td>1000.000000</td>\n",
       "      <td>4556.000000</td>\n",
       "      <td>2590.000000</td>\n",
       "      <td>24.000000</td>\n",
       "      <td>1120.000000</td>\n",
       "    </tr>\n",
       "    <tr>\n",
       "      <th>75%</th>\n",
       "      <td>1420.000000</td>\n",
       "      <td>800.000000</td>\n",
       "      <td>2.300000</td>\n",
       "      <td>1000.000000</td>\n",
       "      <td>21061.000000</td>\n",
       "      <td>6785.000000</td>\n",
       "      <td>26.000000</td>\n",
       "      <td>1360.000000</td>\n",
       "    </tr>\n",
       "    <tr>\n",
       "      <th>max</th>\n",
       "      <td>4800.000000</td>\n",
       "      <td>10000.000000</td>\n",
       "      <td>6.000000</td>\n",
       "      <td>1000.000000</td>\n",
       "      <td>233350.000000</td>\n",
       "      <td>14455.000000</td>\n",
       "      <td>36.000000</td>\n",
       "      <td>4800.000000</td>\n",
       "    </tr>\n",
       "  </tbody>\n",
       "</table>\n",
       "</div>"
      ],
      "text/plain": [
       "              eDPI           DPI  Sensitivity  Polling Rate  \\\n",
       "count    42.000000    301.000000   293.000000    240.000000   \n",
       "mean   1276.554762    792.425249     1.852379    959.904167   \n",
       "std     765.634036    718.939333     0.774464    140.588821   \n",
       "min     360.000000    400.000000     0.200000    100.000000   \n",
       "25%     800.000000    400.000000     1.300000   1000.000000   \n",
       "50%    1100.000000    800.000000     1.600000   1000.000000   \n",
       "75%    1420.000000    800.000000     2.300000   1000.000000   \n",
       "max    4800.000000  10000.000000     6.000000   1000.000000   \n",
       "\n",
       "       Approx. Total Earnings  ALGS points (2020-21)         Age  eDPI_manual  \n",
       "count              275.000000             307.000000  268.000000   293.000000  \n",
       "mean             18082.778182            3965.179153   24.145522  1254.944710  \n",
       "std              31428.275308            4106.331539    3.333703   540.895541  \n",
       "min                  5.000000               0.000000   17.000000   400.000000  \n",
       "25%               1103.000000             370.000000   22.000000   960.000000  \n",
       "50%               4556.000000            2590.000000   24.000000  1120.000000  \n",
       "75%              21061.000000            6785.000000   26.000000  1360.000000  \n",
       "max             233350.000000           14455.000000   36.000000  4800.000000  "
      ]
     },
     "metadata": {},
     "output_type": "display_data"
    }
   ],
   "source": [
    "# Get the basic information of dataframe\n",
    "print(df_sens_clean.info())\n",
    "\n",
    "# Get the summary statistics\n",
    "display(df_sens_clean.describe())"
   ]
  },
  {
   "cell_type": "markdown",
   "id": "6d58fe66",
   "metadata": {},
   "source": [
    "#### Distribution of Apex pro players eDPI"
   ]
  },
  {
   "cell_type": "code",
   "execution_count": 11,
   "id": "58406621",
   "metadata": {},
   "outputs": [
    {
     "name": "stdout",
     "output_type": "stream",
     "text": [
      "count      293.0\n",
      "mean     1,254.9\n",
      "std        540.9\n",
      "min        400.0\n",
      "25%        960.0\n",
      "50%      1,120.0\n",
      "75%      1,360.0\n",
      "max      4,800.0\n",
      "Name: eDPI_manual, dtype: object\n"
     ]
    },
    {
     "data": {
      "image/png": "[encoded data removed]",
      "text/plain": [
       "<Figure size 360x360 with 1 Axes>"
      ]
     },
     "metadata": {
      "needs_background": "light"
     },
     "output_type": "display_data"
    },
    {
     "data": {
      "text/plain": [
       "<Figure size 432x288 with 0 Axes>"
      ]
     },
     "metadata": {},
     "output_type": "display_data"
    }
   ],
   "source": [
    "# Print summary statistics\n",
    "print(df_sens_clean['eDPI_manual'].describe().apply('{:,.1f}'.format))\n",
    "\n",
    "# Use seaborn to create distribution plot of eDPI\n",
    "sns.displot(data = df_sens_clean, x = 'eDPI_manual', kde = True, bins = 30)\n",
    "plt.title(\"Distribution of Apex pro players eDPI\")\n",
    "plt.show()\n",
    "plt.clf()"
   ]
  },
  {
   "cell_type": "code",
   "execution_count": 12,
   "id": "126a5de6",
   "metadata": {
    "scrolled": false
   },
   "outputs": [
    {
     "name": "stdout",
     "output_type": "stream",
     "text": [
      "          count     mean    std      min      25%      50%      75%      max\n",
      "Status                                                                      \n",
      "Active    198.0  1,249.3  485.7    585.0    960.0  1,120.0  1,360.0  4,320.0\n",
      "Inactive    2.0  1,320.0  169.7  1,200.0  1,260.0  1,320.0  1,380.0  1,440.0\n",
      "Retired    91.0  1,269.7  656.1    400.0    910.0  1,120.0  1,280.0  4,800.0\n"
     ]
    },
    {
     "data": {
      "image/png": "[encoded data removed]",
      "text/plain": [
       "<Figure size 435.625x360 with 1 Axes>"
      ]
     },
     "metadata": {
      "needs_background": "light"
     },
     "output_type": "display_data"
    },
    {
     "data": {
      "text/plain": [
       "<Figure size 432x288 with 0 Axes>"
      ]
     },
     "metadata": {},
     "output_type": "display_data"
    }
   ],
   "source": [
    "# Print summary statistics\n",
    "print(df_sens_clean.groupby('Status')['eDPI_manual'].describe().applymap('{:,.1f}'.format))\n",
    "\n",
    "# Use seaborn to create distribution plot of eDPI for each status\n",
    "sns.displot(data = df_sens_clean, x = 'eDPI_manual', kind = 'kde', hue = 'Status')\n",
    "plt.title(\"Distribution of Apex pro players eDPI\")\n",
    "plt.show()\n",
    "plt.clf()"
   ]
  },
  {
   "cell_type": "code",
   "execution_count": 6,
   "id": "96ab1753",
   "metadata": {},
   "outputs": [
    {
     "data": {
      "image/png": "[encoded data removed]",
      "text/plain": [
       "<Figure size 432x432 with 3 Axes>"
      ]
     },
     "metadata": {
      "needs_background": "light"
     },
     "output_type": "display_data"
    },
    {
     "data": {
      "text/plain": [
       "<Figure size 432x288 with 0 Axes>"
      ]
     },
     "metadata": {},
     "output_type": "display_data"
    }
   ],
   "source": [
    "# Use seaborn to create regression plot of eDPI on age\n",
    "sns.jointplot(data = df_sens_clean, x = 'Age', y = 'eDPI_manual', kind = 'reg')\n",
    "plt.title(\"Regression plot of eDPI on Age\", loc = 'left')\n",
    "plt.show()\n",
    "plt.clf()"
   ]
  },
  {
   "cell_type": "code",
   "execution_count": 7,
   "id": "a5172a5c",
   "metadata": {},
   "outputs": [
    {
     "data": {
      "image/png": "[encoded data removed]",
      "text/plain": [
       "<Figure size 432x288 with 1 Axes>"
      ]
     },
     "metadata": {
      "needs_background": "light"
     },
     "output_type": "display_data"
    },
    {
     "data": {
      "text/plain": [
       "<Figure size 432x288 with 0 Axes>"
      ]
     },
     "metadata": {},
     "output_type": "display_data"
    }
   ],
   "source": [
    "# Explode the Main Legends column (for those players who have more than one main legends)\n",
    "df_sens_explode = df_sens_clean.explode('Main Legends')\n",
    "\n",
    "# Use seaborn to create count plot of main legends used by players\n",
    "ax = sns.countplot(data = df_sens_explode, y = 'Main Legends', order = df_sens_explode['Main Legends'].value_counts().index)\n",
    "for p in ax.patches:\n",
    "    ax.annotate('{}'.format(p.get_width()), (p.get_width(), p.get_y()+0.6))\n",
    "plt.title(\"Main legends count\")\n",
    "plt.show()\n",
    "plt.clf()"
   ]
  },
  {
   "cell_type": "code",
   "execution_count": 8,
   "id": "19270553",
   "metadata": {},
   "outputs": [
    {
     "data": {
      "image/png": "[encoded data removed]",
      "text/plain": [
       "<Figure size 432x288 with 1 Axes>"
      ]
     },
     "metadata": {
      "needs_background": "light"
     },
     "output_type": "display_data"
    },
    {
     "data": {
      "text/plain": [
       "<Figure size 432x288 with 0 Axes>"
      ]
     },
     "metadata": {},
     "output_type": "display_data"
    }
   ],
   "source": [
    "# Use seaborn to create box plot of eDPI by legend\n",
    "sns.boxplot(data = df_sens_explode, x = 'eDPI_manual', y = 'Main Legends', order = df_sens_explode['Main Legends'].value_counts().index, fliersize = 2)\n",
    "plt.title(\"Box plot of eDPI by legend\")\n",
    "plt.show()\n",
    "plt.clf()"
   ]
  },
  {
   "cell_type": "code",
   "execution_count": 10,
   "id": "3f97e847",
   "metadata": {
    "scrolled": false
   },
   "outputs": [
    {
     "name": "stdout",
     "output_type": "stream",
     "text": [
      "              count     mean    std    min    25%      50%      75%      max\n",
      "Legend Type                                                                 \n",
      "Movement      252.0  1,264.7  441.6  585.0  990.0  1,200.0  1,440.0  3,200.0\n",
      "Non-movement  263.0  1,244.6  536.9  400.0  960.0  1,120.0  1,300.0  4,800.0\n"
     ]
    },
    {
     "data": {
      "image/png": "[encoded data removed]",
      "text/plain": [
       "<Figure size 432x288 with 1 Axes>"
      ]
     },
     "metadata": {
      "needs_background": "light"
     },
     "output_type": "display_data"
    },
    {
     "data": {
      "text/plain": [
       "<Figure size 432x288 with 0 Axes>"
      ]
     },
     "metadata": {},
     "output_type": "display_data"
    }
   ],
   "source": [
    "# Assign legend type as a new column of the dataframe\n",
    "df_sens_explode['Legend Type'] = [\"Movement\" if i in ['Wraith', 'Pathfinder', 'Octane', 'Valkyrie', 'Horizon'] else \"Non-movement\" for i in df_sens_explode['Main Legends']]\n",
    "\n",
    "# Print summary statistics\n",
    "print(df_sens_explode.groupby('Legend Type')['eDPI_manual'].describe().applymap('{:,.1f}'.format))\n",
    "\n",
    "# Use seaborn to create box plot of eDPI by legend type\n",
    "ax = sns.boxplot(data = df_sens_explode, x = 'eDPI_manual', y = 'Legend Type', showfliers = False)\n",
    "plt.title(\"Box plot of eDPI by legend type (ignored outliers)\")\n",
    "ax.set_yticklabels(('Movement \\n (Wraith, Pathfinder, Octane, \\n Valkyrie, Horizon)', 'Non-movement (Others)'))\n",
    "plt.show()\n",
    "plt.clf()"
   ]
  },
  {
   "cell_type": "code",
   "execution_count": 13,
   "id": "2acb4e2e",
   "metadata": {},
   "outputs": [
    {
     "name": "stdout",
     "output_type": "stream",
     "text": [
      "0    1200.0\n",
      "dtype: float64\n"
     ]
    }
   ],
   "source": [
    "print(df_sens_clean['eDPI_manual'].mode())"
   ]
  }
 ],
 "metadata": {
  "kernelspec": {
   "display_name": "Python 3",
   "language": "python",
   "name": "python3"
  },
  "language_info": {
   "codemirror_mode": {
    "name": "ipython",
    "version": 3
   },
   "file_extension": ".py",
   "mimetype": "text/x-python",
   "name": "python",
   "nbconvert_exporter": "python",
   "pygments_lexer": "ipython3",
   "version": "3.8.8"
  }
 },
 "nbformat": 4,
 "nbformat_minor": 5
}
